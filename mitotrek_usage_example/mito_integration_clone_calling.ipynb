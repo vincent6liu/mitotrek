{
 "cells": [
  {
   "cell_type": "code",
   "execution_count": 1,
   "id": "98931393-e067-45f8-bc66-9df0c6568307",
   "metadata": {},
   "outputs": [],
   "source": [
    "import pandas as pd\n",
    "import mitotrek\n",
    "import pickle"
   ]
  },
  {
   "cell_type": "markdown",
   "id": "7ac52861-44db-4ceb-b3ce-ef718fdb9c63",
   "metadata": {},
   "source": [
    "# Load per-sample mito data and concatenate for each patient"
   ]
  },
  {
   "cell_type": "markdown",
   "id": "945c7689-fc88-448a-8397-499d8f2aa9da",
   "metadata": {},
   "source": [
    "The following sequencing libraries were derived from flow-sorted samples of an NSCLC patient (ID: `SU-L-005`) to maximize cell yield:\n",
    "\n",
    "| Library ID | Tissue Source | Marker Expression       |\n",
    "|:-----------|:--------------|:-------------------------|\n",
    "| 8088       | Lung Tumor     | CD45<sup>+</sup> CD3<sup>+</sup>   |\n",
    "| 8089       | Lung Tumor     | CD45<sup>+</sup> CD3<sup>-</sup> / CD45<sup>-</sup> |\n",
    "| 8090       | Lung Normal    | CD45<sup>+</sup> CD3<sup>+</sup>   |\n",
    "| 8091       | Lung Normal    | CD45<sup>+</sup> CD3<sup>-</sup>   |\n",
    "| 8092       | Lung Normal    | CD45<sup>-</sup>                |\n",
    "| 8093       | PBMC           | CD3<sup>+</sup>                 |\n",
    "| 8094       | PBMC           | CD3<sup>-</sup>                 |\n",
    "\n",
    "Each library was processed independently using **CellRanger** and **mgatk**, resulting in individual mgatk output files for each.\n",
    "\n",
    "### Defining Patient-Sample Groupings\n",
    "\n",
    "We specify the sequencing libraries associated with a given patient using a dictionary, for example:\n",
    "\n",
    "```python\n",
    "sample_patient_grouping = {\n",
    "    \"SU-L-005\": [\n",
    "        \"8088\",  # Lung tumor, CD45+CD3+\n",
    "        \"8089\",  # Lung tumor, CD45+CD3-/CD45-\n",
    "        \"8090\",  # Lung normal, CD45+CD3+\n",
    "        \"8091\",  # Lung normal, CD45+CD3-\n",
    "        \"8092\",  # Lung normal, CD45-\n",
    "        \"8093\",  # PBMC, CD3+\n",
    "        \"8094\",  # PBMC, CD3-\n",
    "    ]\n",
    "}\n",
    "```\n",
    "\n",
    "> **Note:** Additional patient-sample groupings can be added to this dictionary. The analysis pipeline is designed to iterate through each patient entry and process them independently.\n"
   ]
  },
  {
   "cell_type": "code",
   "execution_count": 2,
   "id": "1e8c0745-9ac9-4b1f-81ec-84669c4cc7d6",
   "metadata": {},
   "outputs": [],
   "source": [
    "sample_patient_grouping = {'SU-L-005': ['8088', '8089', '8090', '8091', '8092', '8093', '8094']}\n",
    "sample_patient_map = {pt: k for k, v in sample_patient_grouping.items() for pt in v}"
   ]
  },
  {
   "cell_type": "markdown",
   "id": "2982284e-1075-4997-b31f-4b2fe9ec59d0",
   "metadata": {},
   "source": [
    "### Mitochondrial Mutation Merging and Filtering\n",
    "\n",
    "For each patient-sample grouping defined in the `sample_patient_grouping` dictionary, we use the `mitotrek.processing.load_multiple` function to:\n",
    "\n",
    "1. **Merge all mgatk outputs** associated with the same patient.\n",
    "2. **Perform mitochondrial mutation quality control (QC) and filtering** using the **union method** under the hood.\n",
    "\n",
    "> **Union Filtering Strategy:**  \n",
    "> A mitochondrial variant is retained **in all associated samples** if it passes QC criteria in **any one** of the samples. This inclusive strategy ensures that potentially informative variants are not missed due to sample-specific filtering artifacts.\n"
   ]
  },
  {
   "cell_type": "code",
   "execution_count": 3,
   "id": "46164060-eb0c-4c16-90bc-a043079aa568",
   "metadata": {},
   "outputs": [
    {
     "name": "stdout",
     "output_type": "stream",
     "text": [
      "2594 variants detected.\n",
      "8088: 7515 cells, 509 variants.\n",
      "8089: 4410 cells, 422 variants.\n",
      "8090: 5662 cells, 347 variants.\n",
      "8091: 5045 cells, 377 variants.\n",
      "8092: 7053 cells, 1220 variants.\n",
      "8093: 16713 cells, 1021 variants.\n",
      "8094: 7737 cells, 867 variants.\n",
      "\n"
     ]
    }
   ],
   "source": [
    "mito_file_path_temp = './mgatk_output/'\n",
    "pt_hetero_dict, pt_variant_summary_dict = dict(), dict()\n",
    "\n",
    "for pt in sample_patient_grouping:\n",
    "    cur_pt_dir = mito_file_path_temp+pt+'/'\n",
    "    pt_variant_summary_dict[pt], pt_hetero_dict[pt] = mitotrek.processing.load_multiple(cur_pt_dir, sample_patient_grouping[pt])\n",
    "    print()"
   ]
  },
  {
   "cell_type": "code",
   "execution_count": 4,
   "id": "a885aded-b2cd-4e8b-a9ad-e0bd21475bcd",
   "metadata": {},
   "outputs": [],
   "source": [
    "# save the patient-merged mgatk output\n",
    "pickle.dump(pt_hetero_dict, open('output/pt_hetero_dict.p', 'wb'))\n",
    "pickle.dump(pt_variant_summary_dict, open('output/pt_variant_summary_dict.p', 'wb'))"
   ]
  },
  {
   "cell_type": "markdown",
   "id": "b308e2b1-0df2-4c21-98ec-ba9959f85f04",
   "metadata": {},
   "source": [
    "# Clone calling"
   ]
  },
  {
   "cell_type": "code",
   "execution_count": 5,
   "id": "62f98db7-49d8-4319-b543-7a15a5444b9a",
   "metadata": {},
   "outputs": [],
   "source": [
    "# OPTIONAL: load list of cell barcodes that pass scATAC QC and discard cells not in this whitelist\n",
    "with open('scatac_whitelist.txt', 'r') as f:\n",
    "    scatac_whitelist = f.readlines()\n",
    "    scatac_whitelist = pd.Index([x.strip() for x in scatac_whitelist])"
   ]
  },
  {
   "cell_type": "markdown",
   "id": "a1693774-fc03-497f-84bd-f9b8f39c8e07",
   "metadata": {},
   "source": [
    "After QC filtering, mitochondrial variants are further processed to infer **clonal populations** using co-occurrence patterns across single cells.\n",
    "\n",
    "The main parameters controlling this conversion are:\n",
    "\n",
    "- **`max_abundance`**  \n",
    "  *Type:* `float`  \n",
    "  *Description:* The maximum allowable fraction of cells in which a variant can be detected.  \n",
    "  *Purpose:* Filters out non-informative, ubiquitous variants that may represent germline polymorphisms or sequencing artifacts. Variants detected in more than `max_abundance` of cells are excluded from clonal analysis.\n",
    "\n",
    "- **`bin_cut_off`**  \n",
    "  *Type:* `float`  \n",
    "  *Description:* Heteroplasmy threshold used to binarize the heteroplasmy matrix per variant per cell.  \n",
    "  *Purpose:* Converts continuous heteroplasmy values into binary calls (`present`/`absent`) to minimize noise.\n",
    "\n",
    "- **`corr_cutoff`**  \n",
    "  *Type:* `float`  \n",
    "  *Description:* Minimum correlation coefficient required to merge two variants into the same clone.  \n",
    "  *Purpose:* Ensures that only strongly co-occurring variants are grouped together, improving clone specificity.\n",
    "\n",
    "We recommend using default parameters unless there is a special use case."
   ]
  },
  {
   "cell_type": "code",
   "execution_count": 6,
   "id": "5aa9e819-e05f-4043-ac74-4654cef5f12b",
   "metadata": {},
   "outputs": [
    {
     "name": "stdout",
     "output_type": "stream",
     "text": [
      "SU-L-005...\n",
      "42041 cells in heteroplasmy df.\n",
      "23372 cells available to be assigned.\n",
      "2345 variants used to call clones...\n",
      "9779 cells assigned to more than one clone and discarded.\n",
      "8 clones defined by more than one variant.\n",
      "13562 cells assigned to 2156 clones.\n",
      "\n"
     ]
    }
   ],
   "source": [
    "# convert variants to clones\n",
    "per_pt_cell_per_clone = dict()\n",
    "per_pt_clone_marker = dict()\n",
    "for pt in pt_hetero_dict:\n",
    "    print('{}...'.format(pt))\n",
    "    cur_hetero_df = pt_hetero_dict[pt]\n",
    "    cur_hetero_df = cur_hetero_df.loc[cur_hetero_df.index.intersection(scatac_whitelist)]\n",
    "    per_pt_cell_per_clone[pt], per_pt_clone_marker[pt] = mitotrek.core.assign_cell_to_clones(cur_hetero_df, max_abundance=0.05, bin_cutoff=0.09, corr_cutoff=0.7)[:2]\n",
    "    \n",
    "    # prepend clone name with pt id\n",
    "    per_pt_cell_per_clone[pt] = pt + ':' + per_pt_cell_per_clone[pt]\n",
    "    for old_clone_key in list(per_pt_clone_marker[pt].keys()):\n",
    "        new_clone_key = pt + ':' + old_clone_key\n",
    "        per_pt_clone_marker[pt][new_clone_key] = per_pt_clone_marker[pt].pop(old_clone_key)\n",
    "\n",
    "    print()"
   ]
  },
  {
   "cell_type": "markdown",
   "id": "43dbb359-5ea3-4a02-a4d1-2348b6edfb68",
   "metadata": {},
   "source": [
    "### Output Data Structures\n",
    "\n",
    "After variant-to-clone conversion, the following two output dictionaries capture the clonal assignments and their defining mutations:\n",
    "\n",
    "#### `per_pt_cell_per_clone`\n",
    "\n",
    "- **Type:** `dict[str, pd.Series]`\n",
    "- **Description:** Maps cells to inferred clone identities for each patient.\n",
    "- **Structure:**\n",
    "  ```python\n",
    "  {\n",
    "      \"patient_id_1\": pd.Series({\n",
    "          \"cell_1\": \"clone_1\",\n",
    "          \"cell_2\": \"clone_2\",\n",
    "          ...\n",
    "      }),\n",
    "      ...\n",
    "  }\n",
    "  ```\n",
    "- **Notes:**\n",
    "  - Each key corresponds to a patient ID.\n",
    "  - The associated `pd.Series` maps **cell barcodes** to their assigned **`clone_id`**.\n",
    "  - Only includes cells that have been assigned to a clone.\n",
    "\n",
    "#### `per_pt_clone_marker`\n",
    "\n",
    "- **Type:** `dict[str, dict[str, list[str]]]`\n",
    "- **Description:** Stores the defining mitochondrial variants for each clone per patient.\n",
    "- **Structure:**\n",
    "  ```python\n",
    "  {\n",
    "      \"patient_id_1\": {\n",
    "          \"clone_1\": [\"variant_A\", \"variant_B\"],\n",
    "          \"clone_2\": [\"variant_C\"],\n",
    "          ...\n",
    "      },\n",
    "      ...\n",
    "  }\n",
    "  ```\n",
    "- **Notes:**\n",
    "  - Each outer dictionary key is a patient ID.\n",
    "  - The inner dictionary maps each `clone_id` to a list of **mitochondrial variants** that define that clone.\n",
    "  - These variants are the result of filtering and correlation-based merging.\n",
    "\n",
    "These output files are then integrated with scATAC-seq data for downstream analysis using any single-cell data analysis software of choice (eg. ArchR)."
   ]
  },
  {
   "cell_type": "code",
   "execution_count": 7,
   "id": "932ea83a-9815-4c79-b5d2-0c24abb9d5de",
   "metadata": {},
   "outputs": [],
   "source": [
    "# save output files\n",
    "pickle.dump(per_pt_cell_per_clone, open('output/per_pt_cell_per_clone.p', 'wb'))\n",
    "pickle.dump(per_pt_clone_marker, open('output/per_pt_clone_marker.p', 'wb'))"
   ]
  },
  {
   "cell_type": "code",
   "execution_count": null,
   "id": "f44ab453-7f66-4118-9a99-d9b8f48586d2",
   "metadata": {},
   "outputs": [],
   "source": []
  }
 ],
 "metadata": {
  "kernelspec": {
   "display_name": "Python 3 (ipykernel)",
   "language": "python",
   "name": "python3"
  },
  "language_info": {
   "codemirror_mode": {
    "name": "ipython",
    "version": 3
   },
   "file_extension": ".py",
   "mimetype": "text/x-python",
   "name": "python",
   "nbconvert_exporter": "python",
   "pygments_lexer": "ipython3",
   "version": "3.9.4"
  }
 },
 "nbformat": 4,
 "nbformat_minor": 5
}
